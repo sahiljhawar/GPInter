{
 "cells": [
  {
   "cell_type": "code",
   "execution_count": 1,
   "metadata": {},
   "outputs": [],
   "source": [
    "import numpy as np\n",
    "from gp import GaussianProcess\n",
    "from plot import plot_gp, plot_gp_notebook\n",
    "%matplotlib widget\n",
    "np.random.seed(1840319)\n",
    "\n",
    "X_init = np.random.uniform(-5, 5, size=(6, 1))\n",
    "Y_init = np.random.uniform(-2, 2, size=(6, 1))\n",
    "X_pred = np.arange(-5, 5, 0.1).reshape(-1, 1)\n",
    "\n",
    "gp = GaussianProcess(X_init, Y_init, length_scale=1.0, amplitude=1)\n",
    "\n",
    "plot_gp_notebook(gp, X_pred)"
   ]
  }
 ],
 "metadata": {
  "kernelspec": {
   "display_name": "Python 3 (ipykernel)",
   "language": "python",
   "name": "python3"
  },
  "language_info": {
   "codemirror_mode": {
    "name": "ipython",
    "version": 3
   },
   "file_extension": ".py",
   "mimetype": "text/x-python",
   "name": "python",
   "nbconvert_exporter": "python",
   "pygments_lexer": "ipython3",
   "version": "3.11.0"
  }
 },
 "nbformat": 4,
 "nbformat_minor": 2
}
